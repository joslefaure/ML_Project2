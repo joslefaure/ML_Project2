{
 "cells": [
  {
   "cell_type": "code",
   "execution_count": 1,
   "metadata": {},
   "outputs": [],
   "source": [
    "from collections import namedtuple\n",
    "from operator import itemgetter\n",
    "from pprint import pformat\n",
    " \n",
    "class Node(namedtuple('Node', 'location left_child right_child')):\n",
    " \n",
    "    def __repr__(self):\n",
    "        return pformat(tuple(self))\n",
    " \n",
    "def kdtree(point_list, depth=0):\n",
    "\n",
    "    # assumes all points have the same dimension\n",
    "    try:\n",
    "        k = len(point_list[0])\n",
    "    except IndexError:\n",
    "        return None\n",
    " \n",
    "    # Select axis based on depth so that axis cycles through\n",
    "    # all valid values\n",
    "    axis = depth % k\n",
    " \n",
    "    # Sort point list and choose median as pivot element\n",
    "    point_list.sort(key=itemgetter(axis))\n",
    "    median = len(point_list) // 2         # choose median\n",
    " \n",
    "    # Create node and construct subtrees\n",
    "    return Node(\n",
    "        location=point_list[median],\n",
    "        left_child=kdtree(point_list[:median], depth + 1),\n",
    "        right_child=kdtree(point_list[median + 1:], depth + 1)\n",
    "    )"
   ]
  },
  {
   "cell_type": "code",
   "execution_count": 2,
   "metadata": {},
   "outputs": [
    {
     "name": "stdout",
     "output_type": "stream",
     "text": [
      "((4, 2),\n",
      " ((1, 3),\n",
      " ((2, 1), ((0, 2), None, None), None),\n",
      " ((3, 4), ((0, 5), None, None), None)),\n",
      " ((6, 3), ((7, 1), ((6, 0), None, None), None), ((5, 5), None, None)))\n"
     ]
    }
   ],
   "source": [
    "import pandas as pd\n",
    "import random\n",
    "import numpy as np\n",
    "\n",
    "min_val = 0   # minimal coordinate value\n",
    "max_val = 9  # maximal coordinate value\n",
    "\n",
    "df = pd.read_csv('points.txt', header=None)\n",
    "#     points = points.apply(pd.to_numeric)\n",
    "df.columns = ['xy']\n",
    "df['x'], df['y'] = df['xy'].str.split(' ', 1).str\n",
    "df = df.drop(['xy'], axis=1)\n",
    "df = df.apply(pd.to_numeric)\n",
    "\n",
    "#     print(df)\n",
    "#     print(df.shape)\n",
    "point_list = [tuple(x) for x in df.values]\n",
    "# construct a K-D tree\n",
    "tree = kdtree(point_list)\n",
    "print(tree)"
   ]
  },
  {
   "cell_type": "code",
   "execution_count": 8,
   "metadata": {},
   "outputs": [
    {
     "data": {
      "image/png": "[encoded data removed]",
      "text/plain": [
       "<Figure size 720x720 with 1 Axes>"
      ]
     },
     "metadata": {
      "needs_background": "light"
     },
     "output_type": "display_data"
    }
   ],
   "source": [
    "import matplotlib.pyplot as plt\n",
    " \n",
    "# line width for visualization of K-D tree\n",
    "line_width = [4., 3.5, 3., 2.5, 2., 1.5, 1., .5, 0.3]\n",
    "delta = 2 \n",
    "def plot_tree(tree, min_x, max_x, min_y, max_y, prev_node, branch, depth=0):\n",
    "    cur_node = tree.location         # current tree's node\n",
    "    left_branch = tree.left_child    # its left branch\n",
    "    right_branch = tree.right_child  # its right branch\n",
    " \n",
    "    # set line's width depending on tree's depth\n",
    "    if depth > len(line_width)-1:\n",
    "        ln_width = line_width[len(line_width)-1]\n",
    "    else:\n",
    "        ln_width = line_width[depth]\n",
    " \n",
    "    k = len(cur_node)\n",
    "    axis = depth % k\n",
    " \n",
    "    # draw a vertical splitting line\n",
    "    if axis == 0:\n",
    " \n",
    "        if branch is not None and prev_node is not None:\n",
    " \n",
    "            if branch:\n",
    "                max_y = prev_node[1]\n",
    "            else:\n",
    "                min_y = prev_node[1]\n",
    " \n",
    "        plt.plot([cur_node[0],cur_node[0]], [min_y,max_y], linestyle='-', color='red', linewidth=ln_width)\n",
    " \n",
    "    # draw a horizontal splitting line\n",
    "    elif axis == 1:\n",
    " \n",
    "        if branch is not None and prev_node is not None:\n",
    " \n",
    "            if branch:\n",
    "                max_x = prev_node[0]\n",
    "            else:\n",
    "                min_x = prev_node[0]\n",
    " \n",
    "        plt.plot([min_x,max_x], [cur_node[1],cur_node[1]], linestyle='-', color='blue', linewidth=ln_width)\n",
    " \n",
    "    # draw the current node\n",
    "    plt.plot(cur_node[0], cur_node[1], 'ko')\n",
    " \n",
    "    # draw left and right branches of the current node\n",
    "    if left_branch is not None:\n",
    "        plot_tree(left_branch, min_x, max_x, min_y, max_y, cur_node, True, depth+1)\n",
    " \n",
    "    if right_branch is not None:\n",
    "        plot_tree(right_branch, min_x, max_x, min_y, max_y, cur_node, False, depth+1)\n",
    " \n",
    "plt.figure(\"K-d Tree\", figsize=(10., 10.))\n",
    "plt.axis( [min_val-delta, max_val+delta, min_val-delta, max_val+delta] )\n",
    " \n",
    "plt.grid(b=True, which='major', color='0.75', linestyle='--')\n",
    "plt.xticks([i for i in range(min_val-delta, max_val+delta, 1)])\n",
    "plt.yticks([i for i in range(min_val-delta, max_val+delta, 1)])\n",
    " \n",
    "# draw the tree\n",
    "plot_tree(tree, min_val-delta, max_val+delta, min_val-delta, max_val+delta, None, None)\n",
    " \n",
    "plt.title('K-D Tree visualization')\n",
    "plt.show()\n",
    "plt.close()\n"
   ]
  },
  {
   "cell_type": "code",
   "execution_count": null,
   "metadata": {},
   "outputs": [],
   "source": []
  },
  {
   "cell_type": "code",
   "execution_count": null,
   "metadata": {},
   "outputs": [],
   "source": []
  },
  {
   "cell_type": "code",
   "execution_count": null,
   "metadata": {},
   "outputs": [],
   "source": []
  }
 ],
 "metadata": {
  "kernelspec": {
   "display_name": "Python 3",
   "language": "python",
   "name": "python3"
  },
  "language_info": {
   "codemirror_mode": {
    "name": "ipython",
    "version": 3
   },
   "file_extension": ".py",
   "mimetype": "text/x-python",
   "name": "python",
   "nbconvert_exporter": "python",
   "pygments_lexer": "ipython3",
   "version": "3.7.0"
  }
 },
 "nbformat": 4,
 "nbformat_minor": 2
}
